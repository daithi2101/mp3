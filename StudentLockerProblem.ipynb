{
 "cells": [
  {
   "cell_type": "markdown",
   "metadata": {},
   "source": [
    "|Student Number|1|2|3|4|5|6|7|8|9|10|\n",
    "|:-:|:-:|:-:|:-:|:-:|:-:|:-:|:-:|:-:|:-:|:-:|\n",
    "|Initial|1|1|1|1|1|1|1|1|1|1|\n",
    "|1|0|0|0|0|0|0|0|0|0|0|\n",
    "|2|0|1|0|1|0|1|0|1|0|1|\n",
    "|3|0|1|1|1|0|0|0|1|1|1|\n",
    "|4|0|1|1|0|0|0|1|0|1|\n",
    "|5|0|1|1|0| | | | | | |\n",
    "|6|0|1|1|0| | | | | | |\n",
    "|7|0|1|1|0| | | | | | |\n",
    "\n"
   ]
  },
  {
   "cell_type": "code",
   "execution_count": 2,
   "metadata": {
    "collapsed": true
   },
   "outputs": [],
   "source": [
    "door1 = 1\n",
    "door2 = 1\n",
    "door3 = 1"
   ]
  },
  {
   "cell_type": "code",
   "execution_count": 3,
   "metadata": {
    "collapsed": false
   },
   "outputs": [
    {
     "data": {
      "text/plain": [
       "[1, 1, 1, 1, 1, 1, 1, 1, 1, 1]"
      ]
     },
     "execution_count": 3,
     "metadata": {},
     "output_type": "execute_result"
    }
   ],
   "source": [
    "doors = [1 for i in range(10)]\n",
    "doors"
   ]
  },
  {
   "cell_type": "code",
   "execution_count": 7,
   "metadata": {
    "collapsed": false
   },
   "outputs": [],
   "source": [
    "for student in range(10):\n",
    "    for locker_door in doors:\n",
    "        pass"
   ]
  },
  {
   "cell_type": "code",
   "execution_count": 9,
   "metadata": {
    "collapsed": false
   },
   "outputs": [
    {
     "name": "stdout",
     "output_type": "stream",
     "text": [
      "1, 2, 3, 4, 5, 6, 7, 8, 9, 10, \n",
      "2, 4, 6, 8, 10, 12, 14, 16, 18, 20, \n",
      "3, 6, 9, 12, 15, 18, 21, 24, 27, 30, \n",
      "4, 8, 12, 16, 20, 24, 28, 32, 36, 40, \n",
      "5, 10, 15, 20, 25, 30, 35, 40, 45, 50, \n",
      "6, 12, 18, 24, 30, 36, 42, 48, 54, 60, \n",
      "7, 14, 21, 28, 35, 42, 49, 56, 63, 70, \n",
      "8, 16, 24, 32, 40, 48, 56, 64, 72, 80, \n",
      "9, 18, 27, 36, 45, 54, 63, 72, 81, 90, \n",
      "10, 20, 30, 40, 50, 60, 70, 80, 90, 100, \n"
     ]
    }
   ],
   "source": [
    "for student in range(1,11):\n",
    "    for door in range(1,11):\n",
    "        print(student * door, end=', ')\n",
    "    print()"
   ]
  },
  {
   "cell_type": "code",
   "execution_count": 13,
   "metadata": {
    "collapsed": false
   },
   "outputs": [
    {
     "name": "stdout",
     "output_type": "stream",
     "text": [
      "1, 2, 3, 4, 5, 6, 7, 8, 9, 10, \n",
      "2, 4, 6, 8, 10, \n",
      "3, 6, 9, \n",
      "4, 8, \n",
      "5, 10, \n",
      "6, \n",
      "7, \n",
      "8, \n",
      "9, \n",
      "10, \n"
     ]
    }
   ],
   "source": [
    "for student in range(1,11):\n",
    "    for door in range(1,11):\n",
    "        if student * door < 11:\n",
    "            print(student * door, end = ', ')\n",
    "    print()"
   ]
  },
  {
   "cell_type": "code",
   "execution_count": 14,
   "metadata": {
    "collapsed": false
   },
   "outputs": [
    {
     "name": "stdout",
     "output_type": "stream",
     "text": [
      "Flipping door 1\n",
      "Flipping door 2\n",
      "Flipping door 3\n",
      "Flipping door 4\n",
      "Flipping door 5\n",
      "Flipping door 6\n",
      "Flipping door 7\n",
      "Flipping door 8\n",
      "Flipping door 9\n",
      "Flipping door 10\n",
      "\n",
      "Flipping door 2\n",
      "Flipping door 4\n",
      "Flipping door 6\n",
      "Flipping door 8\n",
      "Flipping door 10\n",
      "\n",
      "Flipping door 3\n",
      "Flipping door 6\n",
      "Flipping door 9\n",
      "\n",
      "Flipping door 4\n",
      "Flipping door 8\n",
      "\n",
      "Flipping door 5\n",
      "Flipping door 10\n",
      "\n",
      "Flipping door 6\n",
      "\n",
      "Flipping door 7\n",
      "\n",
      "Flipping door 8\n",
      "\n",
      "Flipping door 9\n",
      "\n",
      "Flipping door 10\n",
      "\n"
     ]
    }
   ],
   "source": [
    "def flip(n):\n",
    "    print(\"Flipping door\",str(n))\n",
    "\n",
    "for student in range(1,11):\n",
    "    for door in range(1,11):\n",
    "        if student * door < 11:\n",
    "            flip(student * door)\n",
    "    print()"
   ]
  },
  {
   "cell_type": "code",
   "execution_count": null,
   "metadata": {
    "collapsed": true
   },
   "outputs": [],
   "source": []
  }
 ],
 "metadata": {
  "kernelspec": {
   "display_name": "Python 3",
   "language": "python",
   "name": "python3"
  },
  "language_info": {
   "codemirror_mode": {
    "name": "ipython",
    "version": 3
   },
   "file_extension": ".py",
   "mimetype": "text/x-python",
   "name": "python",
   "nbconvert_exporter": "python",
   "pygments_lexer": "ipython3",
   "version": "3.5.1"
  }
 },
 "nbformat": 4,
 "nbformat_minor": 0
}

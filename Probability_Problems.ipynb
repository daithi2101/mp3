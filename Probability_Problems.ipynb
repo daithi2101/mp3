{
 "cells": [
  {
   "cell_type": "code",
   "execution_count": 1,
   "metadata": {
    "collapsed": true
   },
   "outputs": [],
   "source": [
    "import random"
   ]
  },
  {
   "cell_type": "code",
   "execution_count": 24,
   "metadata": {
    "collapsed": false
   },
   "outputs": [
    {
     "name": "stdout",
     "output_type": "stream",
     "text": [
      "The probability of selcting a red is  0.66921\n",
      "The probability of selecting a blue is 0.33457\n",
      "The probability of selecting red followed by red is 0.42705\n",
      "The probability of selecting red followed by red is 0.08977\n",
      "The probability of selecting red followed by blue is 0.24071\n",
      "The probability of selecting blue followed by red is 0.24447\n"
     ]
    }
   ],
   "source": [
    "red = 8\n",
    "total = 12\n",
    "blue = 4\n",
    "iterations = 100000\n",
    "red_red = 0\n",
    "blue_blue = 0\n",
    "red_blue = 0\n",
    "blue_red = 0\n",
    "red_counter = 0\n",
    "blue_counter = 0\n",
    "\n",
    "for i in range(iterations):\n",
    "       \n",
    "    if random.random() < (red / total):\n",
    "        red_counter +=1\n",
    "        if random.random() < ((red -1) / (total - 1)):\n",
    "            red_red += 1  \n",
    "            \n",
    "    if random.random() < (blue / total):\n",
    "        blue_counter += 1\n",
    "        if random.random() < ((blue -1) / (total - 1)):\n",
    "            blue_blue += 1\n",
    "            \n",
    "    if random.random() < (red / total):\n",
    "        if random.random() < ((blue) / (total - 1)):\n",
    "            red_blue += 1   \n",
    "            \n",
    "    if random.random() < (red / total):\n",
    "        if random.random() < ((blue) / (total - 1)):\n",
    "            blue_red += 1           \n",
    "    \n",
    "print(\"The probability of selcting a red is \", (red_counter / iterations))\n",
    "print(\"The probability of selecting a blue is\", (blue_counter / iterations))\n",
    "print(\"The probability of selecting red followed by red is\", (red_red / iterations))\n",
    "print(\"The probability of selecting red followed by red is\", (blue_blue / iterations))\n",
    "print(\"The probability of selecting red followed by blue is\", (red_blue / iterations))\n",
    "print(\"The probability of selecting blue followed by red is\", (blue_red / iterations))"
   ]
  },
  {
   "cell_type": "code",
   "execution_count": null,
   "metadata": {
    "collapsed": true
   },
   "outputs": [],
   "source": []
  },
  {
   "cell_type": "code",
   "execution_count": null,
   "metadata": {
    "collapsed": true
   },
   "outputs": [],
   "source": []
  }
 ],
 "metadata": {
  "kernelspec": {
   "display_name": "Python 3",
   "language": "python",
   "name": "python3"
  },
  "language_info": {
   "codemirror_mode": {
    "name": "ipython",
    "version": 3
   },
   "file_extension": ".py",
   "mimetype": "text/x-python",
   "name": "python",
   "nbconvert_exporter": "python",
   "pygments_lexer": "ipython3",
   "version": "3.5.1"
  }
 },
 "nbformat": 4,
 "nbformat_minor": 0
}

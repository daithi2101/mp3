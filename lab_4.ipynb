{
 "cells": [
  {
   "cell_type": "code",
   "execution_count": 6,
   "metadata": {
    "collapsed": false
   },
   "outputs": [
    {
     "name": "stdout",
     "output_type": "stream",
     "text": [
      "Red Marble Added\n",
      "Blue Marble Added\n",
      "Blue Marble Added\n",
      "Blue Marble Added\n",
      "Blue Marble Added\n",
      "Red Marble Added\n",
      "Blue Marble Added\n",
      "Red Marble Added\n",
      "Red Marble Added\n",
      "Blue Marble Added\n",
      "Red Marble Added\n",
      "Red Marble Added\n"
     ]
    }
   ],
   "source": [
    "import random \n",
    "\n",
    "for i in range(12):\n",
    "    if random.random() < (2 / 3):\n",
    "        print(\"Red Marble Added\")\n",
    "    else: \n",
    "        print(\"Blue Marble Added\")"
   ]
  },
  {
   "cell_type": "code",
   "execution_count": 14,
   "metadata": {
    "collapsed": false
   },
   "outputs": [
    {
     "name": "stdout",
     "output_type": "stream",
     "text": [
      "Red Counters Picked: 8 \n",
      "Red Counters Left: 0 \n",
      "Blue Counter: 4 \n",
      "Blue Counters Left: 0\n"
     ]
    }
   ],
   "source": [
    "import random \n",
    "\n",
    "red = 8\n",
    "blue = 4\n",
    "total = 12\n",
    "red_counter = 0\n",
    "blue_counter = 0\n",
    "\n",
    "for i in range(12):\n",
    "    if random.random() < (red / total):\n",
    "        red_counter += 1\n",
    "        red -= 1\n",
    "        total -= 1\n",
    "    else:\n",
    "        blue_counter += 1\n",
    "        blue -= 1\n",
    "        total -= 1\n",
    "        \n",
    "print(\"Red Counters Picked:\", red_counter, \"\\nRed Counters Left:\", red, \n",
    "      \"\\nBlue Counter:\", blue_counter, \"\\nBlue Counters Left:\", blue)\n",
    "    "
   ]
  },
  {
   "cell_type": "code",
   "execution_count": null,
   "metadata": {
    "collapsed": true
   },
   "outputs": [],
   "source": []
  }
 ],
 "metadata": {
  "kernelspec": {
   "display_name": "Python 3",
   "language": "python",
   "name": "python3"
  },
  "language_info": {
   "codemirror_mode": {
    "name": "ipython",
    "version": 3
   },
   "file_extension": ".py",
   "mimetype": "text/x-python",
   "name": "python",
   "nbconvert_exporter": "python",
   "pygments_lexer": "ipython3",
   "version": "3.5.1"
  }
 },
 "nbformat": 4,
 "nbformat_minor": 0
}
